{
 "cells": [
  {
   "cell_type": "markdown",
   "metadata": {},
   "source": [
    "# Load Packages "
   ]
  },
  {
   "cell_type": "code",
   "execution_count": 84,
   "metadata": {},
   "outputs": [],
   "source": [
    "import pandas as pd\n",
    "import numpy as np\n",
    "import seaborn as sns\n",
    "import matplotlib.pyplot as plt\n",
    "plt.style.use('ggplot')\n",
    "import pyLDAvis\n",
    "import pyLDAvis.gensim \n",
    "from pprint import pprint\n",
    "\n",
    "import datetime\n",
    "\n",
    "from nltk.corpus import stopwords\n",
    "stop_words = stopwords.words('english')\n",
    "from wordcloud import WordCloud\n",
    "from unidecode import unidecode\n",
    "\n",
    "import re\n",
    "from langdetect import detect\n",
    "\n",
    "# Gensim\n",
    "import gensim\n",
    "import gensim.corpora as corpora\n",
    "from gensim.utils import simple_preprocess\n",
    "from gensim.models import CoherenceModel\n",
    "\n",
    "# spacy for lemmatization\n",
    "import spacy"
   ]
  },
  {
   "cell_type": "markdown",
   "metadata": {},
   "source": [
    "# Load Data\n",
    "- Listings, including full descriptions and average review score\n",
    "- Reviews, including unique id for each reviewer and detailed comments\n",
    "- Calendar, including listing id and the price and availability for that day"
   ]
  },
  {
   "cell_type": "code",
   "execution_count": 23,
   "metadata": {},
   "outputs": [],
   "source": [
    "calendar = pd.read_csv(\"./Data/calendar.csv\")\n",
    "listings = pd.read_csv(\"./Data/listings.csv\")\n",
    "reviews = pd.read_csv(\"./Data/reviews.csv\")"
   ]
  },
  {
   "cell_type": "code",
   "execution_count": 15,
   "metadata": {},
   "outputs": [
    {
     "name": "stdout",
     "output_type": "stream",
     "text": [
      "data size of calendar:  (1393570, 4)\n",
      "data size of listings:  (3818, 92)\n",
      "data size of reviews:  (84849, 6)\n"
     ]
    }
   ],
   "source": [
    "# size of the data\n",
    "print(\"data size of calendar: \",calendar.shape) #price and availability for 3,818 listings in one year(365d)\n",
    "print(\"data size of listings: \",listings.shape) \n",
    "print(\"data size of reviews: \",reviews.shape)"
   ]
  },
  {
   "cell_type": "markdown",
   "metadata": {},
   "source": [
    "### calendar"
   ]
  },
  {
   "cell_type": "code",
   "execution_count": 16,
   "metadata": {},
   "outputs": [
    {
     "data": {
      "text/html": [
       "<div>\n",
       "<style scoped>\n",
       "    .dataframe tbody tr th:only-of-type {\n",
       "        vertical-align: middle;\n",
       "    }\n",
       "\n",
       "    .dataframe tbody tr th {\n",
       "        vertical-align: top;\n",
       "    }\n",
       "\n",
       "    .dataframe thead th {\n",
       "        text-align: right;\n",
       "    }\n",
       "</style>\n",
       "<table border=\"1\" class=\"dataframe\">\n",
       "  <thead>\n",
       "    <tr style=\"text-align: right;\">\n",
       "      <th></th>\n",
       "      <th>listing_id</th>\n",
       "      <th>date</th>\n",
       "      <th>available</th>\n",
       "      <th>price</th>\n",
       "    </tr>\n",
       "  </thead>\n",
       "  <tbody>\n",
       "    <tr>\n",
       "      <td>0</td>\n",
       "      <td>241032</td>\n",
       "      <td>2016-01-04</td>\n",
       "      <td>t</td>\n",
       "      <td>$85.00</td>\n",
       "    </tr>\n",
       "    <tr>\n",
       "      <td>1</td>\n",
       "      <td>241032</td>\n",
       "      <td>2016-01-05</td>\n",
       "      <td>t</td>\n",
       "      <td>$85.00</td>\n",
       "    </tr>\n",
       "    <tr>\n",
       "      <td>2</td>\n",
       "      <td>241032</td>\n",
       "      <td>2016-01-06</td>\n",
       "      <td>f</td>\n",
       "      <td>NaN</td>\n",
       "    </tr>\n",
       "    <tr>\n",
       "      <td>3</td>\n",
       "      <td>241032</td>\n",
       "      <td>2016-01-07</td>\n",
       "      <td>f</td>\n",
       "      <td>NaN</td>\n",
       "    </tr>\n",
       "    <tr>\n",
       "      <td>4</td>\n",
       "      <td>241032</td>\n",
       "      <td>2016-01-08</td>\n",
       "      <td>f</td>\n",
       "      <td>NaN</td>\n",
       "    </tr>\n",
       "  </tbody>\n",
       "</table>\n",
       "</div>"
      ],
      "text/plain": [
       "   listing_id        date available   price\n",
       "0      241032  2016-01-04         t  $85.00\n",
       "1      241032  2016-01-05         t  $85.00\n",
       "2      241032  2016-01-06         f     NaN\n",
       "3      241032  2016-01-07         f     NaN\n",
       "4      241032  2016-01-08         f     NaN"
      ]
     },
     "execution_count": 16,
     "metadata": {},
     "output_type": "execute_result"
    }
   ],
   "source": [
    "calendar.head()"
   ]
  },
  {
   "cell_type": "code",
   "execution_count": 17,
   "metadata": {},
   "outputs": [
    {
     "name": "stdout",
     "output_type": "stream",
     "text": [
      "Date range is from 2016-01-04 to 2017-01-02\n"
     ]
    }
   ],
   "source": [
    "print(\"Date range is from {} to {}\" .format(calendar.date.min(),calendar.date.max()))"
   ]
  },
  {
   "cell_type": "markdown",
   "metadata": {},
   "source": [
    "### listings"
   ]
  },
  {
   "cell_type": "code",
   "execution_count": 18,
   "metadata": {},
   "outputs": [
    {
     "data": {
      "text/html": [
       "<div>\n",
       "<style scoped>\n",
       "    .dataframe tbody tr th:only-of-type {\n",
       "        vertical-align: middle;\n",
       "    }\n",
       "\n",
       "    .dataframe tbody tr th {\n",
       "        vertical-align: top;\n",
       "    }\n",
       "\n",
       "    .dataframe thead th {\n",
       "        text-align: right;\n",
       "    }\n",
       "</style>\n",
       "<table border=\"1\" class=\"dataframe\">\n",
       "  <thead>\n",
       "    <tr style=\"text-align: right;\">\n",
       "      <th></th>\n",
       "      <th>id</th>\n",
       "      <th>listing_url</th>\n",
       "      <th>scrape_id</th>\n",
       "      <th>last_scraped</th>\n",
       "      <th>name</th>\n",
       "      <th>summary</th>\n",
       "      <th>space</th>\n",
       "      <th>description</th>\n",
       "      <th>experiences_offered</th>\n",
       "      <th>neighborhood_overview</th>\n",
       "      <th>...</th>\n",
       "      <th>review_scores_value</th>\n",
       "      <th>requires_license</th>\n",
       "      <th>license</th>\n",
       "      <th>jurisdiction_names</th>\n",
       "      <th>instant_bookable</th>\n",
       "      <th>cancellation_policy</th>\n",
       "      <th>require_guest_profile_picture</th>\n",
       "      <th>require_guest_phone_verification</th>\n",
       "      <th>calculated_host_listings_count</th>\n",
       "      <th>reviews_per_month</th>\n",
       "    </tr>\n",
       "  </thead>\n",
       "  <tbody>\n",
       "    <tr>\n",
       "      <td>0</td>\n",
       "      <td>241032</td>\n",
       "      <td>https://www.airbnb.com/rooms/241032</td>\n",
       "      <td>20160104002432</td>\n",
       "      <td>2016-01-04</td>\n",
       "      <td>Stylish Queen Anne Apartment</td>\n",
       "      <td>NaN</td>\n",
       "      <td>Make your self at home in this charming one-be...</td>\n",
       "      <td>Make your self at home in this charming one-be...</td>\n",
       "      <td>none</td>\n",
       "      <td>NaN</td>\n",
       "      <td>...</td>\n",
       "      <td>10.0</td>\n",
       "      <td>f</td>\n",
       "      <td>NaN</td>\n",
       "      <td>WASHINGTON</td>\n",
       "      <td>f</td>\n",
       "      <td>moderate</td>\n",
       "      <td>f</td>\n",
       "      <td>f</td>\n",
       "      <td>2</td>\n",
       "      <td>4.07</td>\n",
       "    </tr>\n",
       "    <tr>\n",
       "      <td>1</td>\n",
       "      <td>953595</td>\n",
       "      <td>https://www.airbnb.com/rooms/953595</td>\n",
       "      <td>20160104002432</td>\n",
       "      <td>2016-01-04</td>\n",
       "      <td>Bright &amp; Airy Queen Anne Apartment</td>\n",
       "      <td>Chemically sensitive? We've removed the irrita...</td>\n",
       "      <td>Beautiful, hypoallergenic apartment in an extr...</td>\n",
       "      <td>Chemically sensitive? We've removed the irrita...</td>\n",
       "      <td>none</td>\n",
       "      <td>Queen Anne is a wonderful, truly functional vi...</td>\n",
       "      <td>...</td>\n",
       "      <td>10.0</td>\n",
       "      <td>f</td>\n",
       "      <td>NaN</td>\n",
       "      <td>WASHINGTON</td>\n",
       "      <td>f</td>\n",
       "      <td>strict</td>\n",
       "      <td>t</td>\n",
       "      <td>t</td>\n",
       "      <td>6</td>\n",
       "      <td>1.48</td>\n",
       "    </tr>\n",
       "    <tr>\n",
       "      <td>2</td>\n",
       "      <td>3308979</td>\n",
       "      <td>https://www.airbnb.com/rooms/3308979</td>\n",
       "      <td>20160104002432</td>\n",
       "      <td>2016-01-04</td>\n",
       "      <td>New Modern House-Amazing water view</td>\n",
       "      <td>New modern house built in 2013.  Spectacular s...</td>\n",
       "      <td>Our house is modern, light and fresh with a wa...</td>\n",
       "      <td>New modern house built in 2013.  Spectacular s...</td>\n",
       "      <td>none</td>\n",
       "      <td>Upper Queen Anne is a charming neighborhood fu...</td>\n",
       "      <td>...</td>\n",
       "      <td>10.0</td>\n",
       "      <td>f</td>\n",
       "      <td>NaN</td>\n",
       "      <td>WASHINGTON</td>\n",
       "      <td>f</td>\n",
       "      <td>strict</td>\n",
       "      <td>f</td>\n",
       "      <td>f</td>\n",
       "      <td>2</td>\n",
       "      <td>1.15</td>\n",
       "    </tr>\n",
       "    <tr>\n",
       "      <td>3</td>\n",
       "      <td>7421966</td>\n",
       "      <td>https://www.airbnb.com/rooms/7421966</td>\n",
       "      <td>20160104002432</td>\n",
       "      <td>2016-01-04</td>\n",
       "      <td>Queen Anne Chateau</td>\n",
       "      <td>A charming apartment that sits atop Queen Anne...</td>\n",
       "      <td>NaN</td>\n",
       "      <td>A charming apartment that sits atop Queen Anne...</td>\n",
       "      <td>none</td>\n",
       "      <td>NaN</td>\n",
       "      <td>...</td>\n",
       "      <td>NaN</td>\n",
       "      <td>f</td>\n",
       "      <td>NaN</td>\n",
       "      <td>WASHINGTON</td>\n",
       "      <td>f</td>\n",
       "      <td>flexible</td>\n",
       "      <td>f</td>\n",
       "      <td>f</td>\n",
       "      <td>1</td>\n",
       "      <td>NaN</td>\n",
       "    </tr>\n",
       "    <tr>\n",
       "      <td>4</td>\n",
       "      <td>278830</td>\n",
       "      <td>https://www.airbnb.com/rooms/278830</td>\n",
       "      <td>20160104002432</td>\n",
       "      <td>2016-01-04</td>\n",
       "      <td>Charming craftsman 3 bdm house</td>\n",
       "      <td>Cozy family craftman house in beautiful neighb...</td>\n",
       "      <td>Cozy family craftman house in beautiful neighb...</td>\n",
       "      <td>Cozy family craftman house in beautiful neighb...</td>\n",
       "      <td>none</td>\n",
       "      <td>We are in the beautiful neighborhood of Queen ...</td>\n",
       "      <td>...</td>\n",
       "      <td>9.0</td>\n",
       "      <td>f</td>\n",
       "      <td>NaN</td>\n",
       "      <td>WASHINGTON</td>\n",
       "      <td>f</td>\n",
       "      <td>strict</td>\n",
       "      <td>f</td>\n",
       "      <td>f</td>\n",
       "      <td>1</td>\n",
       "      <td>0.89</td>\n",
       "    </tr>\n",
       "  </tbody>\n",
       "</table>\n",
       "<p>5 rows × 92 columns</p>\n",
       "</div>"
      ],
      "text/plain": [
       "        id                           listing_url       scrape_id last_scraped  \\\n",
       "0   241032   https://www.airbnb.com/rooms/241032  20160104002432   2016-01-04   \n",
       "1   953595   https://www.airbnb.com/rooms/953595  20160104002432   2016-01-04   \n",
       "2  3308979  https://www.airbnb.com/rooms/3308979  20160104002432   2016-01-04   \n",
       "3  7421966  https://www.airbnb.com/rooms/7421966  20160104002432   2016-01-04   \n",
       "4   278830   https://www.airbnb.com/rooms/278830  20160104002432   2016-01-04   \n",
       "\n",
       "                                  name  \\\n",
       "0         Stylish Queen Anne Apartment   \n",
       "1   Bright & Airy Queen Anne Apartment   \n",
       "2  New Modern House-Amazing water view   \n",
       "3                   Queen Anne Chateau   \n",
       "4       Charming craftsman 3 bdm house   \n",
       "\n",
       "                                             summary  \\\n",
       "0                                                NaN   \n",
       "1  Chemically sensitive? We've removed the irrita...   \n",
       "2  New modern house built in 2013.  Spectacular s...   \n",
       "3  A charming apartment that sits atop Queen Anne...   \n",
       "4  Cozy family craftman house in beautiful neighb...   \n",
       "\n",
       "                                               space  \\\n",
       "0  Make your self at home in this charming one-be...   \n",
       "1  Beautiful, hypoallergenic apartment in an extr...   \n",
       "2  Our house is modern, light and fresh with a wa...   \n",
       "3                                                NaN   \n",
       "4  Cozy family craftman house in beautiful neighb...   \n",
       "\n",
       "                                         description experiences_offered  \\\n",
       "0  Make your self at home in this charming one-be...                none   \n",
       "1  Chemically sensitive? We've removed the irrita...                none   \n",
       "2  New modern house built in 2013.  Spectacular s...                none   \n",
       "3  A charming apartment that sits atop Queen Anne...                none   \n",
       "4  Cozy family craftman house in beautiful neighb...                none   \n",
       "\n",
       "                               neighborhood_overview  ... review_scores_value  \\\n",
       "0                                                NaN  ...                10.0   \n",
       "1  Queen Anne is a wonderful, truly functional vi...  ...                10.0   \n",
       "2  Upper Queen Anne is a charming neighborhood fu...  ...                10.0   \n",
       "3                                                NaN  ...                 NaN   \n",
       "4  We are in the beautiful neighborhood of Queen ...  ...                 9.0   \n",
       "\n",
       "  requires_license license jurisdiction_names instant_bookable  \\\n",
       "0                f     NaN         WASHINGTON                f   \n",
       "1                f     NaN         WASHINGTON                f   \n",
       "2                f     NaN         WASHINGTON                f   \n",
       "3                f     NaN         WASHINGTON                f   \n",
       "4                f     NaN         WASHINGTON                f   \n",
       "\n",
       "  cancellation_policy  require_guest_profile_picture  \\\n",
       "0            moderate                              f   \n",
       "1              strict                              t   \n",
       "2              strict                              f   \n",
       "3            flexible                              f   \n",
       "4              strict                              f   \n",
       "\n",
       "  require_guest_phone_verification calculated_host_listings_count  \\\n",
       "0                                f                              2   \n",
       "1                                t                              6   \n",
       "2                                f                              2   \n",
       "3                                f                              1   \n",
       "4                                f                              1   \n",
       "\n",
       "  reviews_per_month  \n",
       "0              4.07  \n",
       "1              1.48  \n",
       "2              1.15  \n",
       "3               NaN  \n",
       "4              0.89  \n",
       "\n",
       "[5 rows x 92 columns]"
      ]
     },
     "execution_count": 18,
     "metadata": {},
     "output_type": "execute_result"
    }
   ],
   "source": [
    "listings.head()"
   ]
  },
  {
   "cell_type": "code",
   "execution_count": 19,
   "metadata": {},
   "outputs": [
    {
     "data": {
      "text/plain": [
       "Index(['id', 'listing_url', 'scrape_id', 'last_scraped', 'name', 'summary',\n",
       "       'space', 'description', 'experiences_offered', 'neighborhood_overview',\n",
       "       'notes', 'transit', 'thumbnail_url', 'medium_url', 'picture_url',\n",
       "       'xl_picture_url', 'host_id', 'host_url', 'host_name', 'host_since',\n",
       "       'host_location', 'host_about', 'host_response_time',\n",
       "       'host_response_rate', 'host_acceptance_rate', 'host_is_superhost',\n",
       "       'host_thumbnail_url', 'host_picture_url', 'host_neighbourhood',\n",
       "       'host_listings_count', 'host_total_listings_count',\n",
       "       'host_verifications', 'host_has_profile_pic', 'host_identity_verified',\n",
       "       'street', 'neighbourhood', 'neighbourhood_cleansed',\n",
       "       'neighbourhood_group_cleansed', 'city', 'state', 'zipcode', 'market',\n",
       "       'smart_location', 'country_code', 'country', 'latitude', 'longitude',\n",
       "       'is_location_exact', 'property_type', 'room_type', 'accommodates',\n",
       "       'bathrooms', 'bedrooms', 'beds', 'bed_type', 'amenities', 'square_feet',\n",
       "       'price', 'weekly_price', 'monthly_price', 'security_deposit',\n",
       "       'cleaning_fee', 'guests_included', 'extra_people', 'minimum_nights',\n",
       "       'maximum_nights', 'calendar_updated', 'has_availability',\n",
       "       'availability_30', 'availability_60', 'availability_90',\n",
       "       'availability_365', 'calendar_last_scraped', 'number_of_reviews',\n",
       "       'first_review', 'last_review', 'review_scores_rating',\n",
       "       'review_scores_accuracy', 'review_scores_cleanliness',\n",
       "       'review_scores_checkin', 'review_scores_communication',\n",
       "       'review_scores_location', 'review_scores_value', 'requires_license',\n",
       "       'license', 'jurisdiction_names', 'instant_bookable',\n",
       "       'cancellation_policy', 'require_guest_profile_picture',\n",
       "       'require_guest_phone_verification', 'calculated_host_listings_count',\n",
       "       'reviews_per_month'],\n",
       "      dtype='object')"
      ]
     },
     "execution_count": 19,
     "metadata": {},
     "output_type": "execute_result"
    }
   ],
   "source": [
    "listings.columns"
   ]
  },
  {
   "cell_type": "markdown",
   "metadata": {},
   "source": [
    "### reviews"
   ]
  },
  {
   "cell_type": "code",
   "execution_count": 20,
   "metadata": {},
   "outputs": [
    {
     "data": {
      "text/html": [
       "<div>\n",
       "<style scoped>\n",
       "    .dataframe tbody tr th:only-of-type {\n",
       "        vertical-align: middle;\n",
       "    }\n",
       "\n",
       "    .dataframe tbody tr th {\n",
       "        vertical-align: top;\n",
       "    }\n",
       "\n",
       "    .dataframe thead th {\n",
       "        text-align: right;\n",
       "    }\n",
       "</style>\n",
       "<table border=\"1\" class=\"dataframe\">\n",
       "  <thead>\n",
       "    <tr style=\"text-align: right;\">\n",
       "      <th></th>\n",
       "      <th>listing_id</th>\n",
       "      <th>id</th>\n",
       "      <th>date</th>\n",
       "      <th>reviewer_id</th>\n",
       "      <th>reviewer_name</th>\n",
       "      <th>comments</th>\n",
       "    </tr>\n",
       "  </thead>\n",
       "  <tbody>\n",
       "    <tr>\n",
       "      <td>0</td>\n",
       "      <td>7202016</td>\n",
       "      <td>38917982</td>\n",
       "      <td>2015-07-19</td>\n",
       "      <td>28943674</td>\n",
       "      <td>Bianca</td>\n",
       "      <td>Cute and cozy place. Perfect location to every...</td>\n",
       "    </tr>\n",
       "    <tr>\n",
       "      <td>1</td>\n",
       "      <td>7202016</td>\n",
       "      <td>39087409</td>\n",
       "      <td>2015-07-20</td>\n",
       "      <td>32440555</td>\n",
       "      <td>Frank</td>\n",
       "      <td>Kelly has a great room in a very central locat...</td>\n",
       "    </tr>\n",
       "    <tr>\n",
       "      <td>2</td>\n",
       "      <td>7202016</td>\n",
       "      <td>39820030</td>\n",
       "      <td>2015-07-26</td>\n",
       "      <td>37722850</td>\n",
       "      <td>Ian</td>\n",
       "      <td>Very spacious apartment, and in a great neighb...</td>\n",
       "    </tr>\n",
       "    <tr>\n",
       "      <td>3</td>\n",
       "      <td>7202016</td>\n",
       "      <td>40813543</td>\n",
       "      <td>2015-08-02</td>\n",
       "      <td>33671805</td>\n",
       "      <td>George</td>\n",
       "      <td>Close to Seattle Center and all it has to offe...</td>\n",
       "    </tr>\n",
       "    <tr>\n",
       "      <td>4</td>\n",
       "      <td>7202016</td>\n",
       "      <td>41986501</td>\n",
       "      <td>2015-08-10</td>\n",
       "      <td>34959538</td>\n",
       "      <td>Ming</td>\n",
       "      <td>Kelly was a great host and very accommodating ...</td>\n",
       "    </tr>\n",
       "  </tbody>\n",
       "</table>\n",
       "</div>"
      ],
      "text/plain": [
       "   listing_id        id        date  reviewer_id reviewer_name  \\\n",
       "0     7202016  38917982  2015-07-19     28943674        Bianca   \n",
       "1     7202016  39087409  2015-07-20     32440555         Frank   \n",
       "2     7202016  39820030  2015-07-26     37722850           Ian   \n",
       "3     7202016  40813543  2015-08-02     33671805        George   \n",
       "4     7202016  41986501  2015-08-10     34959538          Ming   \n",
       "\n",
       "                                            comments  \n",
       "0  Cute and cozy place. Perfect location to every...  \n",
       "1  Kelly has a great room in a very central locat...  \n",
       "2  Very spacious apartment, and in a great neighb...  \n",
       "3  Close to Seattle Center and all it has to offe...  \n",
       "4  Kelly was a great host and very accommodating ...  "
      ]
     },
     "execution_count": 20,
     "metadata": {},
     "output_type": "execute_result"
    }
   ],
   "source": [
    "reviews.head()"
   ]
  },
  {
   "cell_type": "markdown",
   "metadata": {},
   "source": [
    "# Question 1\n",
    "####  What are the busiest times to visit Seattle? By how much do prices increase?"
   ]
  },
  {
   "cell_type": "code",
   "execution_count": 29,
   "metadata": {},
   "outputs": [],
   "source": [
    "# data wrangling\n",
    "calendar[['price']] = calendar[['price']].replace({r'\\$': '', ',': ''},regex=True)\n",
    "calendar[['price']] = calendar[['price']].astype(float)\n",
    "calendar['date'] = pd.to_datetime(calendar['date'])\n",
    "\n",
    "calendar['Month'] = calendar['date'].apply(lambda time: time.month)\n",
    "calendar['Day of Week'] = calendar['date'].apply(lambda time: time.dayofweek)"
   ]
  },
  {
   "cell_type": "code",
   "execution_count": 30,
   "metadata": {},
   "outputs": [
    {
     "name": "stdout",
     "output_type": "stream",
     "text": [
      "Average listing price throughout the whole year: $ 137\n"
     ]
    }
   ],
   "source": [
    "print('Average listing price throughout the whole year: $',int(calendar[calendar.available=='t']['price'].mean()))"
   ]
  },
  {
   "cell_type": "code",
   "execution_count": 31,
   "metadata": {},
   "outputs": [
    {
     "data": {
      "image/png": "[encoded data removed]",
      "text/plain": [
       "<Figure size 432x288 with 1 Axes>"
      ]
     },
     "metadata": {},
     "output_type": "display_data"
    }
   ],
   "source": [
    "calendar[calendar.available=='t'].groupby(['date']).mean()['price'].plot();\n",
    "plt.title('Seattle Airbnb: Average Daily Listing Price in 2016');"
   ]
  },
  {
   "cell_type": "markdown",
   "metadata": {},
   "source": [
    "- The peak season is from June to August."
   ]
  },
  {
   "cell_type": "code",
   "execution_count": 38,
   "metadata": {},
   "outputs": [
    {
     "name": "stdout",
     "output_type": "stream",
     "text": [
      "Average increase in each month (compared to the average price):\n"
     ]
    },
    {
     "data": {
      "text/html": [
       "<div>\n",
       "<style scoped>\n",
       "    .dataframe tbody tr th:only-of-type {\n",
       "        vertical-align: middle;\n",
       "    }\n",
       "\n",
       "    .dataframe tbody tr th {\n",
       "        vertical-align: top;\n",
       "    }\n",
       "\n",
       "    .dataframe thead th {\n",
       "        text-align: right;\n",
       "    }\n",
       "</style>\n",
       "<table border=\"1\" class=\"dataframe\">\n",
       "  <thead>\n",
       "    <tr style=\"text-align: right;\">\n",
       "      <th></th>\n",
       "      <th>price change (pct)</th>\n",
       "    </tr>\n",
       "    <tr>\n",
       "      <th>Month</th>\n",
       "      <th></th>\n",
       "    </tr>\n",
       "  </thead>\n",
       "  <tbody>\n",
       "    <tr>\n",
       "      <td>1</td>\n",
       "      <td>-10.897602</td>\n",
       "    </tr>\n",
       "    <tr>\n",
       "      <td>2</td>\n",
       "      <td>-9.895934</td>\n",
       "    </tr>\n",
       "    <tr>\n",
       "      <td>3</td>\n",
       "      <td>-6.742093</td>\n",
       "    </tr>\n",
       "    <tr>\n",
       "      <td>4</td>\n",
       "      <td>-2.064487</td>\n",
       "    </tr>\n",
       "    <tr>\n",
       "      <td>5</td>\n",
       "      <td>1.155044</td>\n",
       "    </tr>\n",
       "    <tr>\n",
       "      <td>6</td>\n",
       "      <td>6.907310</td>\n",
       "    </tr>\n",
       "    <tr>\n",
       "      <td>7</td>\n",
       "      <td>10.257208</td>\n",
       "    </tr>\n",
       "    <tr>\n",
       "      <td>8</td>\n",
       "      <td>9.215085</td>\n",
       "    </tr>\n",
       "    <tr>\n",
       "      <td>9</td>\n",
       "      <td>3.850154</td>\n",
       "    </tr>\n",
       "    <tr>\n",
       "      <td>10</td>\n",
       "      <td>-0.661800</td>\n",
       "    </tr>\n",
       "    <tr>\n",
       "      <td>11</td>\n",
       "      <td>-1.635523</td>\n",
       "    </tr>\n",
       "    <tr>\n",
       "      <td>12</td>\n",
       "      <td>-0.502392</td>\n",
       "    </tr>\n",
       "  </tbody>\n",
       "</table>\n",
       "</div>"
      ],
      "text/plain": [
       "       price change (pct)\n",
       "Month                    \n",
       "1              -10.897602\n",
       "2               -9.895934\n",
       "3               -6.742093\n",
       "4               -2.064487\n",
       "5                1.155044\n",
       "6                6.907310\n",
       "7               10.257208\n",
       "8                9.215085\n",
       "9                3.850154\n",
       "10              -0.661800\n",
       "11              -1.635523\n",
       "12              -0.502392"
      ]
     },
     "execution_count": 38,
     "metadata": {},
     "output_type": "execute_result"
    }
   ],
   "source": [
    "price_diff = calendar[calendar.available=='t'].groupby(['Month']).mean()['price']-calendar[calendar.available=='t']['price'].mean()\n",
    "\n",
    "price_change = price_diff/calendar[calendar.available=='t']['price'].mean()*100\n",
    "\n",
    "print(\"Average increase in each month (compared to the average price):\")\n",
    "\n",
    "pd.DataFrame(price_change).rename(columns={'price':'price change (pct)'})"
   ]
  },
  {
   "cell_type": "code",
   "execution_count": 39,
   "metadata": {},
   "outputs": [
    {
     "data": {
      "image/png": "[encoded data removed]",
      "text/plain": [
       "<Figure size 432x288 with 1 Axes>"
      ]
     },
     "metadata": {},
     "output_type": "display_data"
    }
   ],
   "source": [
    "calendar[calendar.available=='t'].groupby(['Day of Week']).mean()['price'].plot();\n",
    "plt.title('Seattle Airbnb: Average Listing Price by day of week');"
   ]
  },
  {
   "cell_type": "markdown",
   "metadata": {},
   "source": [
    "- Friday and Saturday are obviously the busiest."
   ]
  },
  {
   "cell_type": "code",
   "execution_count": 42,
   "metadata": {},
   "outputs": [
    {
     "name": "stdout",
     "output_type": "stream",
     "text": [
      "Average increase in weekday (compared to the average price):\n"
     ]
    },
    {
     "data": {
      "text/html": [
       "<div>\n",
       "<style scoped>\n",
       "    .dataframe tbody tr th:only-of-type {\n",
       "        vertical-align: middle;\n",
       "    }\n",
       "\n",
       "    .dataframe tbody tr th {\n",
       "        vertical-align: top;\n",
       "    }\n",
       "\n",
       "    .dataframe thead th {\n",
       "        text-align: right;\n",
       "    }\n",
       "</style>\n",
       "<table border=\"1\" class=\"dataframe\">\n",
       "  <thead>\n",
       "    <tr style=\"text-align: right;\">\n",
       "      <th></th>\n",
       "      <th>Day of Week</th>\n",
       "      <th>price change (pct)</th>\n",
       "    </tr>\n",
       "  </thead>\n",
       "  <tbody>\n",
       "    <tr>\n",
       "      <td>0</td>\n",
       "      <td>0</td>\n",
       "      <td>-1.644458</td>\n",
       "    </tr>\n",
       "    <tr>\n",
       "      <td>1</td>\n",
       "      <td>1</td>\n",
       "      <td>-1.838484</td>\n",
       "    </tr>\n",
       "    <tr>\n",
       "      <td>2</td>\n",
       "      <td>2</td>\n",
       "      <td>-1.810128</td>\n",
       "    </tr>\n",
       "    <tr>\n",
       "      <td>3</td>\n",
       "      <td>3</td>\n",
       "      <td>-1.064793</td>\n",
       "    </tr>\n",
       "    <tr>\n",
       "      <td>4</td>\n",
       "      <td>4</td>\n",
       "      <td>3.690921</td>\n",
       "    </tr>\n",
       "    <tr>\n",
       "      <td>5</td>\n",
       "      <td>5</td>\n",
       "      <td>3.811144</td>\n",
       "    </tr>\n",
       "    <tr>\n",
       "      <td>6</td>\n",
       "      <td>6</td>\n",
       "      <td>-1.076457</td>\n",
       "    </tr>\n",
       "  </tbody>\n",
       "</table>\n",
       "</div>"
      ],
      "text/plain": [
       "   Day of Week  price change (pct)\n",
       "0            0           -1.644458\n",
       "1            1           -1.838484\n",
       "2            2           -1.810128\n",
       "3            3           -1.064793\n",
       "4            4            3.690921\n",
       "5            5            3.811144\n",
       "6            6           -1.076457"
      ]
     },
     "execution_count": 42,
     "metadata": {},
     "output_type": "execute_result"
    }
   ],
   "source": [
    "price_diff = calendar[calendar.available=='t'].groupby(['Day of Week']).mean()['price']-calendar[calendar.available=='t']['price'].mean()\n",
    "\n",
    "price_change = price_diff/calendar[calendar.available=='t']['price'].mean()*100\n",
    "\n",
    "print(\"Average increase in weekday (compared to the average price):\")\n",
    "\n",
    "pd.DataFrame(price_change).rename(columns={'price':'price change (pct)'}).reset_index()"
   ]
  },
  {
   "cell_type": "markdown",
   "metadata": {},
   "source": [
    "# Question 2\n",
    "#### What are the common types of property in Seattle? How do the prices of common property differ in neighborhoods during peak periods?"
   ]
  },
  {
   "cell_type": "code",
   "execution_count": 252,
   "metadata": {},
   "outputs": [
    {
     "data": {
      "text/plain": [
       "House              1733\n",
       "Apartment          1708\n",
       "Townhouse           118\n",
       "Condominium          91\n",
       "Loft                 40\n",
       "Bed & Breakfast      37\n",
       "Other                22\n",
       "Cabin                21\n",
       "Bungalow             13\n",
       "Camper/RV            13\n",
       "Boat                  8\n",
       "Tent                  5\n",
       "Treehouse             3\n",
       "Chalet                2\n",
       "Dorm                  2\n",
       "Yurt                  1\n",
       "Name: property_type, dtype: int64"
      ]
     },
     "execution_count": 252,
     "metadata": {},
     "output_type": "execute_result"
    }
   ],
   "source": [
    "listings.property_type.value_counts()"
   ]
  },
  {
   "cell_type": "code",
   "execution_count": 272,
   "metadata": {},
   "outputs": [
    {
     "data": {
      "image/png": "[encoded data removed]",
      "text/plain": [
       "<Figure size 640x480 with 1 Axes>"
      ]
     },
     "metadata": {},
     "output_type": "display_data"
    }
   ],
   "source": [
    "listings1=listings.copy()\n",
    "common_property = ['House','Apartment','Townhouse','Condominium']\n",
    "listings1[['property_type']] = listings1['property_type'].apply(lambda x: 'Other' if x not in common_property else x)\n",
    "listings1.property_type.value_counts().plot(kind='pie',autopct='%1.1f%%');"
   ]
  },
  {
   "cell_type": "code",
   "execution_count": 44,
   "metadata": {
    "scrolled": false
   },
   "outputs": [
    {
     "data": {
      "text/plain": [
       "Broadway                     397\n",
       "Belltown                     234\n",
       "Wallingford                  167\n",
       "Fremont                      158\n",
       "Minor                        135\n",
       "University District          122\n",
       "Stevens                      119\n",
       "First Hill                   108\n",
       "Central Business District    103\n",
       "Lower Queen Anne              94\n",
       "Name: neighbourhood_cleansed, dtype: int64"
      ]
     },
     "execution_count": 44,
     "metadata": {},
     "output_type": "execute_result"
    }
   ],
   "source": [
    "# top 10 neighbourhoods\n",
    "listings.neighbourhood_cleansed.value_counts().head(10) #87 in total"
   ]
  },
  {
   "cell_type": "code",
   "execution_count": 45,
   "metadata": {},
   "outputs": [],
   "source": [
    "# merge two dataset: calendar and listings\n",
    "df = pd.merge(calendar, listings[['id','neighbourhood_cleansed','property_type']],how='inner',\n",
    "              left_on='listing_id',right_on='id')"
   ]
  },
  {
   "cell_type": "code",
   "execution_count": 46,
   "metadata": {},
   "outputs": [
    {
     "data": {
      "text/html": [
       "<div>\n",
       "<style scoped>\n",
       "    .dataframe tbody tr th:only-of-type {\n",
       "        vertical-align: middle;\n",
       "    }\n",
       "\n",
       "    .dataframe tbody tr th {\n",
       "        vertical-align: top;\n",
       "    }\n",
       "\n",
       "    .dataframe thead th {\n",
       "        text-align: right;\n",
       "    }\n",
       "</style>\n",
       "<table border=\"1\" class=\"dataframe\">\n",
       "  <thead>\n",
       "    <tr style=\"text-align: right;\">\n",
       "      <th></th>\n",
       "      <th>listing_id</th>\n",
       "      <th>date</th>\n",
       "      <th>available</th>\n",
       "      <th>price</th>\n",
       "      <th>Month</th>\n",
       "      <th>Day of Week</th>\n",
       "      <th>id</th>\n",
       "      <th>neighbourhood_cleansed</th>\n",
       "      <th>property_type</th>\n",
       "    </tr>\n",
       "  </thead>\n",
       "  <tbody>\n",
       "    <tr>\n",
       "      <td>0</td>\n",
       "      <td>241032</td>\n",
       "      <td>2016-01-04</td>\n",
       "      <td>t</td>\n",
       "      <td>85.0</td>\n",
       "      <td>1</td>\n",
       "      <td>0</td>\n",
       "      <td>241032</td>\n",
       "      <td>West Queen Anne</td>\n",
       "      <td>Apartment</td>\n",
       "    </tr>\n",
       "    <tr>\n",
       "      <td>1</td>\n",
       "      <td>241032</td>\n",
       "      <td>2016-01-05</td>\n",
       "      <td>t</td>\n",
       "      <td>85.0</td>\n",
       "      <td>1</td>\n",
       "      <td>1</td>\n",
       "      <td>241032</td>\n",
       "      <td>West Queen Anne</td>\n",
       "      <td>Apartment</td>\n",
       "    </tr>\n",
       "    <tr>\n",
       "      <td>2</td>\n",
       "      <td>241032</td>\n",
       "      <td>2016-01-06</td>\n",
       "      <td>f</td>\n",
       "      <td>NaN</td>\n",
       "      <td>1</td>\n",
       "      <td>2</td>\n",
       "      <td>241032</td>\n",
       "      <td>West Queen Anne</td>\n",
       "      <td>Apartment</td>\n",
       "    </tr>\n",
       "    <tr>\n",
       "      <td>3</td>\n",
       "      <td>241032</td>\n",
       "      <td>2016-01-07</td>\n",
       "      <td>f</td>\n",
       "      <td>NaN</td>\n",
       "      <td>1</td>\n",
       "      <td>3</td>\n",
       "      <td>241032</td>\n",
       "      <td>West Queen Anne</td>\n",
       "      <td>Apartment</td>\n",
       "    </tr>\n",
       "    <tr>\n",
       "      <td>4</td>\n",
       "      <td>241032</td>\n",
       "      <td>2016-01-08</td>\n",
       "      <td>f</td>\n",
       "      <td>NaN</td>\n",
       "      <td>1</td>\n",
       "      <td>4</td>\n",
       "      <td>241032</td>\n",
       "      <td>West Queen Anne</td>\n",
       "      <td>Apartment</td>\n",
       "    </tr>\n",
       "  </tbody>\n",
       "</table>\n",
       "</div>"
      ],
      "text/plain": [
       "   listing_id       date available  price  Month  Day of Week      id  \\\n",
       "0      241032 2016-01-04         t   85.0      1            0  241032   \n",
       "1      241032 2016-01-05         t   85.0      1            1  241032   \n",
       "2      241032 2016-01-06         f    NaN      1            2  241032   \n",
       "3      241032 2016-01-07         f    NaN      1            3  241032   \n",
       "4      241032 2016-01-08         f    NaN      1            4  241032   \n",
       "\n",
       "  neighbourhood_cleansed property_type  \n",
       "0        West Queen Anne     Apartment  \n",
       "1        West Queen Anne     Apartment  \n",
       "2        West Queen Anne     Apartment  \n",
       "3        West Queen Anne     Apartment  \n",
       "4        West Queen Anne     Apartment  "
      ]
     },
     "execution_count": 46,
     "metadata": {},
     "output_type": "execute_result"
    }
   ],
   "source": [
    "df.head()"
   ]
  },
  {
   "cell_type": "code",
   "execution_count": 62,
   "metadata": {},
   "outputs": [
    {
     "data": {
      "text/plain": [
       "neighbourhood_cleansed  property_type\n",
       "Olympic Hills           House             76.623003\n",
       "Georgetown              House             77.486486\n",
       "Rainier Beach           House             77.767123\n",
       "Mid-Beacon Hill         House             80.764317\n",
       "Victory Heights         House             83.408000\n",
       "                                            ...    \n",
       "Alki                    House            268.749245\n",
       "Brighton                House            279.666667\n",
       "West Queen Anne         House            303.573604\n",
       "Portage Bay             House            317.467456\n",
       "East Queen Anne         House            405.410802\n",
       "Name: price, Length: 79, dtype: float64"
      ]
     },
     "execution_count": 62,
     "metadata": {},
     "output_type": "execute_result"
    }
   ],
   "source": [
    "# Average daily house price by neighborhood in the busiest months (July and Aug.)\n",
    "df1 = df[df['Month'].isin([7,8])&df['property_type'].isin(['House'])&(df.available=='t')]\n",
    "df1.groupby(['neighbourhood_cleansed','property_type']).mean()['price'].sort_values()"
   ]
  },
  {
   "cell_type": "code",
   "execution_count": 63,
   "metadata": {},
   "outputs": [
    {
     "data": {
      "text/plain": [
       "neighbourhood_cleansed     property_type\n",
       "Dunlap                     Apartment         42.500000\n",
       "South Delridge             Apartment         60.000000\n",
       "Matthews Beach             Apartment         65.468750\n",
       "Seward Park                Apartment         75.611111\n",
       "Riverview                  Apartment         78.225806\n",
       "                                               ...    \n",
       "Crown Hill                 Apartment        217.500000\n",
       "Pike-Market                Apartment        243.659379\n",
       "Central Business District  Apartment        260.431039\n",
       "Belltown                   Apartment        265.975045\n",
       "Southeast Magnolia         Apartment        296.225806\n",
       "Name: price, Length: 78, dtype: float64"
      ]
     },
     "execution_count": 63,
     "metadata": {},
     "output_type": "execute_result"
    }
   ],
   "source": [
    "# Average daily apartment price by neighborhood in the busiest months (July and Aug.)\n",
    "df2 = df[df['Month'].isin([7,8])&df['property_type'].isin(['Apartment'])&(df.available=='t')]\n",
    "df2.groupby(['neighbourhood_cleansed','property_type']).mean()['price'].sort_values()"
   ]
  },
  {
   "cell_type": "markdown",
   "metadata": {},
   "source": [
    "# Question 3\n",
    "#### On average how many days are the listings available? Is there any trend that exists?"
   ]
  },
  {
   "cell_type": "code",
   "execution_count": 64,
   "metadata": {},
   "outputs": [
    {
     "data": {
      "text/plain": [
       "Timestamp('2016-01-03 00:00:00')"
      ]
     },
     "execution_count": 64,
     "metadata": {},
     "output_type": "execute_result"
    }
   ],
   "source": [
    "listings['host_since'] = pd.to_datetime(listings['host_since'])\n",
    "listings.host_since.max() #no new host enters the market in this dataset."
   ]
  },
  {
   "cell_type": "code",
   "execution_count": 65,
   "metadata": {},
   "outputs": [
    {
     "name": "stdout",
     "output_type": "stream",
     "text": [
      "Average available days: 244\n"
     ]
    }
   ],
   "source": [
    "print('Average available days:', int(listings['availability_365'].mean()))"
   ]
  },
  {
   "cell_type": "code",
   "execution_count": 66,
   "metadata": {},
   "outputs": [
    {
     "data": {
      "image/png": "[encoded data removed]",
      "text/plain": [
       "<Figure size 432x288 with 1 Axes>"
      ]
     },
     "metadata": {},
     "output_type": "display_data"
    }
   ],
   "source": [
    "sns.distplot(listings.availability_365);\n",
    "plt.title('Distribution of the available days for all listings');"
   ]
  },
  {
   "cell_type": "code",
   "execution_count": 67,
   "metadata": {},
   "outputs": [
    {
     "data": {
      "image/png": "[encoded data removed]",
      "text/plain": [
       "<Figure size 432x288 with 1 Axes>"
      ]
     },
     "metadata": {},
     "output_type": "display_data"
    }
   ],
   "source": [
    "calendar1 = calendar.copy()\n",
    "calendar1[['available']] = calendar1['available'].apply(lambda x: 1 if x=='t' else 0)\n",
    "calendar1.groupby(['date']).mean()['available'].plot();\n",
    "plt.title('Percentage of listings available over dates');"
   ]
  },
  {
   "cell_type": "markdown",
   "metadata": {},
   "source": [
    "- The number of available listings increases over time, but it is relatively low in summer. "
   ]
  },
  {
   "cell_type": "markdown",
   "metadata": {},
   "source": [
    "# Question 4\n",
    "#### What are the key topics based on the reviews? "
   ]
  },
  {
   "cell_type": "code",
   "execution_count": 69,
   "metadata": {},
   "outputs": [],
   "source": [
    "# merge two dataset: review and listings\n",
    "df_review = pd.merge(reviews, listings[['id','review_scores_rating']],how='inner',\n",
    "              left_on='listing_id',right_on='id')\n",
    "df_review = df_review[['comments','review_scores_rating']]"
   ]
  },
  {
   "cell_type": "code",
   "execution_count": 70,
   "metadata": {},
   "outputs": [
    {
     "data": {
      "text/html": [
       "<div>\n",
       "<style scoped>\n",
       "    .dataframe tbody tr th:only-of-type {\n",
       "        vertical-align: middle;\n",
       "    }\n",
       "\n",
       "    .dataframe tbody tr th {\n",
       "        vertical-align: top;\n",
       "    }\n",
       "\n",
       "    .dataframe thead th {\n",
       "        text-align: right;\n",
       "    }\n",
       "</style>\n",
       "<table border=\"1\" class=\"dataframe\">\n",
       "  <thead>\n",
       "    <tr style=\"text-align: right;\">\n",
       "      <th></th>\n",
       "      <th>comments</th>\n",
       "      <th>review_scores_rating</th>\n",
       "    </tr>\n",
       "  </thead>\n",
       "  <tbody>\n",
       "    <tr>\n",
       "      <td>0</td>\n",
       "      <td>Cute and cozy place. Perfect location to every...</td>\n",
       "      <td>95.0</td>\n",
       "    </tr>\n",
       "    <tr>\n",
       "      <td>1</td>\n",
       "      <td>Kelly has a great room in a very central locat...</td>\n",
       "      <td>95.0</td>\n",
       "    </tr>\n",
       "    <tr>\n",
       "      <td>2</td>\n",
       "      <td>Very spacious apartment, and in a great neighb...</td>\n",
       "      <td>95.0</td>\n",
       "    </tr>\n",
       "    <tr>\n",
       "      <td>3</td>\n",
       "      <td>Close to Seattle Center and all it has to offe...</td>\n",
       "      <td>95.0</td>\n",
       "    </tr>\n",
       "    <tr>\n",
       "      <td>4</td>\n",
       "      <td>Kelly was a great host and very accommodating ...</td>\n",
       "      <td>95.0</td>\n",
       "    </tr>\n",
       "  </tbody>\n",
       "</table>\n",
       "</div>"
      ],
      "text/plain": [
       "                                            comments  review_scores_rating\n",
       "0  Cute and cozy place. Perfect location to every...                  95.0\n",
       "1  Kelly has a great room in a very central locat...                  95.0\n",
       "2  Very spacious apartment, and in a great neighb...                  95.0\n",
       "3  Close to Seattle Center and all it has to offe...                  95.0\n",
       "4  Kelly was a great host and very accommodating ...                  95.0"
      ]
     },
     "execution_count": 70,
     "metadata": {},
     "output_type": "execute_result"
    }
   ],
   "source": [
    "df_review.head()"
   ]
  },
  {
   "cell_type": "code",
   "execution_count": 71,
   "metadata": {},
   "outputs": [
    {
     "data": {
      "text/plain": [
       "comments                0.000212\n",
       "review_scores_rating    0.000236\n",
       "dtype: float64"
      ]
     },
     "execution_count": 71,
     "metadata": {},
     "output_type": "execute_result"
    }
   ],
   "source": [
    "df_review.isnull().mean()"
   ]
  },
  {
   "cell_type": "code",
   "execution_count": 72,
   "metadata": {},
   "outputs": [],
   "source": [
    "# drop missing values\n",
    "df_review.dropna(how='any',inplace=True)"
   ]
  },
  {
   "cell_type": "code",
   "execution_count": 76,
   "metadata": {},
   "outputs": [
    {
     "data": {
      "text/html": [
       "<div>\n",
       "<style scoped>\n",
       "    .dataframe tbody tr th:only-of-type {\n",
       "        vertical-align: middle;\n",
       "    }\n",
       "\n",
       "    .dataframe tbody tr th {\n",
       "        vertical-align: top;\n",
       "    }\n",
       "\n",
       "    .dataframe thead th {\n",
       "        text-align: right;\n",
       "    }\n",
       "</style>\n",
       "<table border=\"1\" class=\"dataframe\">\n",
       "  <thead>\n",
       "    <tr style=\"text-align: right;\">\n",
       "      <th></th>\n",
       "      <th>review_scores_rating</th>\n",
       "    </tr>\n",
       "  </thead>\n",
       "  <tbody>\n",
       "    <tr>\n",
       "      <td>count</td>\n",
       "      <td>84811.000000</td>\n",
       "    </tr>\n",
       "    <tr>\n",
       "      <td>mean</td>\n",
       "      <td>94.896523</td>\n",
       "    </tr>\n",
       "    <tr>\n",
       "      <td>std</td>\n",
       "      <td>4.084888</td>\n",
       "    </tr>\n",
       "    <tr>\n",
       "      <td>min</td>\n",
       "      <td>20.000000</td>\n",
       "    </tr>\n",
       "    <tr>\n",
       "      <td>25%</td>\n",
       "      <td>93.000000</td>\n",
       "    </tr>\n",
       "    <tr>\n",
       "      <td>50%</td>\n",
       "      <td>96.000000</td>\n",
       "    </tr>\n",
       "    <tr>\n",
       "      <td>75%</td>\n",
       "      <td>98.000000</td>\n",
       "    </tr>\n",
       "    <tr>\n",
       "      <td>max</td>\n",
       "      <td>100.000000</td>\n",
       "    </tr>\n",
       "  </tbody>\n",
       "</table>\n",
       "</div>"
      ],
      "text/plain": [
       "       review_scores_rating\n",
       "count          84811.000000\n",
       "mean              94.896523\n",
       "std                4.084888\n",
       "min               20.000000\n",
       "25%               93.000000\n",
       "50%               96.000000\n",
       "75%               98.000000\n",
       "max              100.000000"
      ]
     },
     "execution_count": 76,
     "metadata": {},
     "output_type": "execute_result"
    },
    {
     "data": {
      "image/png": "[encoded data removed]",
      "text/plain": [
       "<Figure size 432x288 with 1 Axes>"
      ]
     },
     "metadata": {},
     "output_type": "display_data"
    }
   ],
   "source": [
    "sns.distplot(df_review['review_scores_rating']);\n",
    "df_review.describe()"
   ]
  },
  {
   "cell_type": "code",
   "execution_count": 85,
   "metadata": {},
   "outputs": [
    {
     "data": {
      "text/plain": [
       "en       83757\n",
       "fr         239\n",
       "de         213\n",
       "zh-cn      161\n",
       "es          81\n",
       "ko          50\n",
       "ro          43\n",
       "nl          38\n",
       "ja          29\n",
       "pt          26\n",
       "Name: language, dtype: int64"
      ]
     },
     "execution_count": 85,
     "metadata": {},
     "output_type": "execute_result"
    }
   ],
   "source": [
    "# languages of the comments\n",
    "def language_detection(text):\n",
    "    try:\n",
    "        return detect(text)\n",
    "    except:\n",
    "        return None\n",
    "    \n",
    "df_review['language'] = df_review['comments'].apply(language_detection)\n",
    "df_review.language.value_counts().head(10)"
   ]
  },
  {
   "cell_type": "markdown",
   "metadata": {},
   "source": [
    "- Most reviews are written in English, so I will only analyze the English reviews in the following part."
   ]
  },
  {
   "cell_type": "code",
   "execution_count": 86,
   "metadata": {},
   "outputs": [],
   "source": [
    "df_review = df_review[df_review.language=='en']"
   ]
  },
  {
   "cell_type": "code",
   "execution_count": 87,
   "metadata": {},
   "outputs": [
    {
     "data": {
      "image/png": "[encoded data removed]",
      "text/plain": [
       "<PIL.Image.Image image mode=RGB size=400x200 at 0x1A4892CA90>"
      ]
     },
     "execution_count": 87,
     "metadata": {},
     "output_type": "execute_result"
    }
   ],
   "source": [
    "# WordCloud\n",
    "# A quick look at the most frequent words\n",
    "\n",
    "long_string = ','.join(list(df_review.comments.values))\n",
    "long_string = long_string.lower()\n",
    "\n",
    "#Create a WordCloud object\n",
    "wordcloud = WordCloud(background_color=\"white\", max_words=5000, contour_width=10, contour_color='steelblue')\n",
    "\n",
    "# Generate a word cloud\n",
    "wordcloud.generate(long_string)\n",
    "\n",
    "# Visualize the word cloud\n",
    "wordcloud.to_image()"
   ]
  },
  {
   "cell_type": "markdown",
   "metadata": {},
   "source": [
    "### Clean Data"
   ]
  },
  {
   "cell_type": "code",
   "execution_count": 88,
   "metadata": {},
   "outputs": [
    {
     "name": "stdout",
     "output_type": "stream",
     "text": [
      "[['cute', 'and', 'cozy', 'place', 'perfect', 'location', 'to', 'everything']]\n"
     ]
    }
   ],
   "source": [
    "# convert to list\n",
    "data=df_review.comments.values.tolist()\n",
    "    \n",
    "# remove unicode.\n",
    "data=[unidecode(sent) for sent in data]\n",
    "\n",
    "# remove punctuation\n",
    "data=[re.sub(r\"\\\"|\\.|\\?|\\!|\\,|\\_|\\(|\\)|\\{|\\}|\\/|\\=|\\+|\\:|\\;\", \"\", sent) for sent in data]\n",
    "\n",
    "# remove numbers \n",
    "data=[re.sub(r\"\\d\", \"\", sent) for sent in data]\n",
    "\n",
    "# remove new line character\n",
    "data=[re.sub(r'\\s+', ' ', sent) for sent in data]\n",
    "\n",
    "def sent_to_words(sentences):\n",
    "    for sentence in sentences:\n",
    "        yield(gensim.utils.simple_preprocess(str(sentence), deacc=True))  # deacc=True removes punctuations \n",
    "\n",
    "data_words = list(sent_to_words(data))\n",
    "\n",
    "print(data_words[:1])"
   ]
  },
  {
   "cell_type": "code",
   "execution_count": 89,
   "metadata": {},
   "outputs": [
    {
     "name": "stdout",
     "output_type": "stream",
     "text": [
      "['cute', 'and', 'cozy', 'place', 'perfect', 'location', 'to', 'everything']\n"
     ]
    }
   ],
   "source": [
    "# Build the bigram and trigram models\n",
    "bigram = gensim.models.Phrases(data_words, min_count=5, threshold=10) \n",
    "trigram = gensim.models.Phrases(bigram[data_words], threshold=10)  \n",
    "\n",
    "# Faster way to get a sentence clubbed as a trigram/bigram\n",
    "bigram_mod = gensim.models.phrases.Phraser(bigram)\n",
    "trigram_mod = gensim.models.phrases.Phraser(trigram)\n",
    "\n",
    "# See trigram example\n",
    "print(trigram_mod[bigram_mod[data_words[0]]])"
   ]
  },
  {
   "cell_type": "code",
   "execution_count": 90,
   "metadata": {},
   "outputs": [],
   "source": [
    "# Define functions for stopwords, bigrams, trigrams and lemmatization\n",
    "def remove_stopwords(texts):\n",
    "    return [[word for word in simple_preprocess(str(doc)) if word not in stop_words] for doc in texts]\n",
    "\n",
    "def make_bigrams(texts):\n",
    "    return [bigram_mod[doc] for doc in texts]\n",
    "\n",
    "def make_trigrams(texts):\n",
    "    return [trigram_mod[bigram_mod[doc]] for doc in texts]\n",
    "\n",
    "def lemmatization(texts, allowed_postags=['NOUN', 'ADJ', 'VERB', 'ADV']): \n",
    "    texts_out = []\n",
    "    for sent in texts:\n",
    "        doc = nlp(\" \".join(sent)) \n",
    "        texts_out.append([token.lemma_ for token in doc if token.pos_ in allowed_postags])\n",
    "    return texts_out"
   ]
  },
  {
   "cell_type": "code",
   "execution_count": 91,
   "metadata": {},
   "outputs": [
    {
     "name": "stdout",
     "output_type": "stream",
     "text": [
      "[['cute', 'cozy', 'place', 'perfect', 'location']]\n"
     ]
    }
   ],
   "source": [
    "# Remove Stop Words\n",
    "data_words_nostops = remove_stopwords(data_words)\n",
    "\n",
    "# Form Bigrams\n",
    "data_words_bigrams = make_bigrams(data_words_nostops)\n",
    "\n",
    "nlp = spacy.load('en', disable=['parser', 'ner'])\n",
    "\n",
    "#Do lemmatization keeping only noun, adj\n",
    "data_lemmatized = lemmatization(data_words_bigrams, allowed_postags=['NOUN', 'ADJ'])\n",
    "\n",
    "print(data_lemmatized[:1])"
   ]
  },
  {
   "cell_type": "markdown",
   "metadata": {},
   "source": [
    "### Create Dictionary and Corpus for Topic Modeling"
   ]
  },
  {
   "cell_type": "code",
   "execution_count": 92,
   "metadata": {},
   "outputs": [
    {
     "name": "stdout",
     "output_type": "stream",
     "text": [
      "[[(0, 1), (1, 1), (2, 1), (3, 1), (4, 1)]]\n"
     ]
    }
   ],
   "source": [
    "# Create Dictionary\n",
    "id2word = corpora.Dictionary(data_lemmatized)\n",
    "\n",
    "# Create Corpus\n",
    "texts = data_lemmatized\n",
    "\n",
    "# Term Document Frequency\n",
    "corpus = [id2word.doc2bow(text) for text in texts]\n",
    "\n",
    "# View\n",
    "print(corpus[:1])"
   ]
  },
  {
   "cell_type": "code",
   "execution_count": 93,
   "metadata": {},
   "outputs": [
    {
     "data": {
      "text/plain": [
       "[[('cozy', 1), ('cute', 1), ('location', 1), ('perfect', 1), ('place', 1)]]"
      ]
     },
     "execution_count": 93,
     "metadata": {},
     "output_type": "execute_result"
    }
   ],
   "source": [
    "[[(id2word[id], freq) for id, freq in cp] for cp in corpus[:1]]"
   ]
  },
  {
   "cell_type": "markdown",
   "metadata": {},
   "source": [
    "### Build the Topic Model\n",
    "- alpha and eta are hyperparameters that affect sparsity of the topics.\n",
    "- chunksize is the number of documents to be used in each training chunk.\n",
    "- update_every determines how often the model parameters should be updated\n",
    "- passes is the total number of training passes"
   ]
  },
  {
   "cell_type": "code",
   "execution_count": 102,
   "metadata": {},
   "outputs": [],
   "source": [
    "# Build LDA model\n",
    "lda_model = gensim.models.ldamodel.LdaModel(corpus=corpus,\n",
    "                                           id2word=id2word,\n",
    "                                           num_topics=4, \n",
    "                                           random_state=100,\n",
    "                                           update_every=1,\n",
    "                                           chunksize=100,\n",
    "                                           passes=10,\n",
    "                                           alpha='auto',\n",
    "                                           per_word_topics=True)"
   ]
  },
  {
   "cell_type": "code",
   "execution_count": 109,
   "metadata": {},
   "outputs": [
    {
     "name": "stdout",
     "output_type": "stream",
     "text": [
      "[(0,\n",
      "  '0.070*\"great\" + 0.057*\"place\" + 0.035*\"apartment\" + 0.032*\"host\" + '\n",
      "  '0.032*\"comfortable\" + 0.032*\"location\"'),\n",
      " (1,\n",
      "  '0.047*\"amazing\" + 0.044*\"view\" + 0.038*\"able\" + 0.034*\"studio\" + '\n",
      "  '0.033*\"spot\" + 0.031*\"family\"'),\n",
      " (2,\n",
      "  '0.043*\"good\" + 0.035*\"home\" + 0.024*\"night\" + 0.024*\"little\" + 0.024*\"day\" '\n",
      "  '+ 0.021*\"city\"'),\n",
      " (3,\n",
      "  '0.051*\"bed\" + 0.030*\"bathroom\" + 0.022*\"guest\" + 0.022*\"small\" + '\n",
      "  '0.018*\"people\" + 0.016*\"kitchen\"')]\n"
     ]
    }
   ],
   "source": [
    "# Print the Keyword in the 4 topics\n",
    "# The weights reflect how important a keyword is to that topic.\n",
    "pprint(lda_model.print_topics(num_words=6))\n",
    "doc_lda = lda_model[corpus]"
   ]
  },
  {
   "cell_type": "markdown",
   "metadata": {},
   "source": [
    "- The four topics are related to location, view, comfort(feel like home) and interior."
   ]
  },
  {
   "cell_type": "markdown",
   "metadata": {},
   "source": [
    "### Compute Model Perplexity and Coherence Score\n",
    "Model perplexity and topic coherence provide a convenient measure to judge how good a given topic model is."
   ]
  },
  {
   "cell_type": "code",
   "execution_count": 111,
   "metadata": {},
   "outputs": [
    {
     "name": "stdout",
     "output_type": "stream",
     "text": [
      "\n",
      "Perplexity:  -6.588555465760934\n",
      "\n",
      "Coherence Score:  0.5053999816519235\n"
     ]
    }
   ],
   "source": [
    "# Compute Perplexity\n",
    "print('\\nPerplexity: ', lda_model.log_perplexity(corpus))  # a measure of how good the model is. lower the better.\n",
    "\n",
    "# Compute Coherence Score\n",
    "coherence_model_lda = CoherenceModel(model=lda_model, texts=data_lemmatized, dictionary=id2word, coherence='c_v')\n",
    "coherence_lda = coherence_model_lda.get_coherence()\n",
    "print('\\nCoherence Score: ', coherence_lda)"
   ]
  },
  {
   "cell_type": "code",
   "execution_count": 112,
   "metadata": {},
   "outputs": [
    {
     "name": "stderr",
     "output_type": "stream",
     "text": [
      "/Users/jiahuili/opt/anaconda3/lib/python3.7/site-packages/pyLDAvis/_prepare.py:257: FutureWarning: Sorting because non-concatenation axis is not aligned. A future version\n",
      "of pandas will change to not sort by default.\n",
      "\n",
      "To accept the future behavior, pass 'sort=False'.\n",
      "\n",
      "To retain the current behavior and silence the warning, pass 'sort=True'.\n",
      "\n",
      "  return pd.concat([default_term_info] + list(topic_dfs))\n"
     ]
    },
    {
     "data": {
      "text/html": [
       "\n",
       "<link rel=\"stylesheet\" type=\"text/css\" href=\"https://cdn.rawgit.com/bmabey/pyLDAvis/files/ldavis.v1.0.0.css\">\n",
       "\n",
       "\n",
       "<div id=\"ldavis_el560751145273019683844763751\"></div>\n",
       "<script type=\"text/javascript\">\n",
       "\n",
       "var ldavis_el560751145273019683844763751_data = {\"mdsDat\": {\"x\": [0.4142804991621693, -0.14304852666149478, -0.11537986540367094, -0.15585210709700348], \"y\": [0.024142146448481228, 0.1165792499801489, -0.3769708827892452, 0.23624948636061482], \"topics\": [1, 2, 3, 4], \"cluster\": [1, 1, 1, 1], \"Freq\": [54.21037673950195, 8.827936172485352, 23.274253845214844, 13.687431335449219]}, \"tinfo\": {\"Category\": [\"Default\", \"Default\", \"Default\", \"Default\", \"Default\", \"Default\", \"Default\", \"Default\", \"Default\", \"Default\", \"Default\", \"Default\", \"Default\", \"Default\", \"Default\", \"Default\", \"Default\", \"Default\", \"Default\", \"Default\", \"Default\", \"Default\", \"Default\", \"Default\", \"Default\", \"Default\", \"Default\", \"Default\", \"Default\", \"Default\", \"Topic1\", \"Topic1\", \"Topic1\", \"Topic1\", \"Topic1\", \"Topic1\", \"Topic1\", \"Topic1\", \"Topic1\", \"Topic1\", \"Topic1\", \"Topic1\", \"Topic1\", \"Topic1\", \"Topic1\", \"Topic1\", \"Topic1\", \"Topic1\", \"Topic1\", \"Topic1\", \"Topic1\", \"Topic1\", \"Topic1\", \"Topic1\", \"Topic1\", \"Topic1\", \"Topic1\", \"Topic1\", \"Topic1\", \"Topic1\", \"Topic1\", \"Topic1\", \"Topic1\", \"Topic2\", \"Topic2\", \"Topic2\", \"Topic2\", \"Topic2\", \"Topic2\", \"Topic2\", \"Topic2\", \"Topic2\", \"Topic2\", \"Topic2\", \"Topic2\", \"Topic2\", \"Topic2\", \"Topic2\", \"Topic2\", \"Topic2\", \"Topic2\", \"Topic2\", \"Topic2\", \"Topic2\", \"Topic2\", \"Topic2\", \"Topic2\", \"Topic2\", \"Topic2\", \"Topic2\", \"Topic2\", \"Topic2\", \"Topic2\", \"Topic3\", \"Topic3\", \"Topic3\", \"Topic3\", \"Topic3\", \"Topic3\", \"Topic3\", \"Topic3\", \"Topic3\", \"Topic3\", \"Topic3\", \"Topic3\", \"Topic3\", \"Topic3\", \"Topic3\", \"Topic3\", \"Topic3\", \"Topic3\", \"Topic3\", \"Topic3\", \"Topic3\", \"Topic3\", \"Topic3\", \"Topic3\", \"Topic3\", \"Topic3\", \"Topic3\", \"Topic3\", \"Topic3\", \"Topic3\", \"Topic3\", \"Topic3\", \"Topic4\", \"Topic4\", \"Topic4\", \"Topic4\", \"Topic4\", \"Topic4\", \"Topic4\", \"Topic4\", \"Topic4\", \"Topic4\", \"Topic4\", \"Topic4\", \"Topic4\", \"Topic4\", \"Topic4\", \"Topic4\", \"Topic4\", \"Topic4\", \"Topic4\", \"Topic4\", \"Topic4\", \"Topic4\", \"Topic4\", \"Topic4\", \"Topic4\", \"Topic4\", \"Topic4\", \"Topic4\", \"Topic4\", \"Topic4\", \"Topic4\"], \"Freq\": [53343.0, 43329.0, 13981.0, 9823.0, 11303.0, 26596.0, 24713.0, 24430.0, 24271.0, 23989.0, 5782.0, 5417.0, 4756.0, 5793.0, 7891.0, 18802.0, 18650.0, 7766.0, 7706.0, 17148.0, 4208.0, 6884.0, 16476.0, 6811.0, 4053.0, 15400.0, 3836.0, 6227.0, 14571.0, 4304.0, 53342.984375, 43328.67578125, 26595.51171875, 24713.11328125, 24429.423828125, 24270.642578125, 23988.310546875, 18801.71875, 18649.685546875, 15399.3798828125, 14570.7421875, 12869.4287109375, 12686.8427734375, 11753.05859375, 11840.3662109375, 11419.7822265625, 11325.2431640625, 10265.2216796875, 9761.490234375, 9537.9697265625, 9581.0771484375, 8303.9794921875, 8244.5439453125, 7991.5361328125, 7648.341796875, 7527.44775390625, 5949.8447265625, 5219.9677734375, 5177.41064453125, 5179.1875, 17143.568359375, 16473.416015625, 9487.7294921875, 5781.962890625, 5416.54443359375, 4755.72509765625, 4207.60302734375, 4052.772705078125, 3835.484619140625, 3410.434814453125, 2587.6806640625, 1799.48388671875, 1790.18994140625, 1541.7359619140625, 1518.4344482421875, 1424.18505859375, 1266.8916015625, 1260.6124267578125, 1095.275634765625, 1107.9072265625, 1040.6162109375, 1038.6319580078125, 995.8248901367188, 983.2962036132812, 946.9242553710938, 1413.9053955078125, 904.4983520507812, 912.4510498046875, 880.239013671875, 872.8233032226562, 863.218994140625, 839.78564453125, 810.511962890625, 11302.2099609375, 7890.705078125, 7705.361328125, 7765.6318359375, 6883.8974609375, 6810.53857421875, 6226.72900390625, 4409.63134765625, 4268.54052734375, 4226.32763671875, 4029.749755859375, 3975.303955078125, 3864.624755859375, 3589.44970703125, 3423.7919921875, 3363.668701171875, 3199.9208984375, 3068.85888671875, 3042.606689453125, 2833.109619140625, 2698.061767578125, 2739.75830078125, 2668.1611328125, 2659.9072265625, 2605.0810546875, 2351.34521484375, 2318.611328125, 2154.40625, 2171.256591796875, 2096.17919921875, 13943.8466796875, 2639.3154296875, 9822.287109375, 5792.6875, 4303.421875, 4168.474609375, 3427.55810546875, 3124.94384765625, 2927.842529296875, 2860.420166015625, 2723.2587890625, 2406.63818359375, 2384.322265625, 2288.41845703125, 2176.357666015625, 2104.944580078125, 2066.2158203125, 1958.59130859375, 1788.8470458984375, 2205.58447265625, 1671.4036865234375, 1586.9024658203125, 1564.309814453125, 1533.7047119140625, 1445.6668701171875, 1417.47509765625, 1369.5966796875, 1329.6275634765625, 1194.529541015625, 1159.4644775390625, 1158.703125, 1171.96337890625, 1159.6207275390625], \"Term\": [\"great\", \"place\", \"good\", \"bed\", \"home\", \"apartment\", \"host\", \"comfortable\", \"location\", \"clean\", \"amazing\", \"view\", \"able\", \"bathroom\", \"night\", \"nice\", \"neighborhood\", \"little\", \"day\", \"room\", \"studio\", \"city\", \"time\", \"lovely\", \"spot\", \"downtown\", \"family\", \"thing\", \"easy\", \"guest\", \"great\", \"place\", \"apartment\", \"host\", \"comfortable\", \"location\", \"clean\", \"nice\", \"neighborhood\", \"downtown\", \"easy\", \"perfect\", \"seattle\", \"area\", \"space\", \"experience\", \"wonderful\", \"house\", \"helpful\", \"restaurant\", \"quiet\", \"friendly\", \"close\", \"lot\", \"beautiful\", \"thank\", \"convenient\", \"cozy\", \"trip\", \"many\", \"room\", \"time\", \"stay\", \"amazing\", \"view\", \"able\", \"studio\", \"spot\", \"family\", \"arrival\", \"breakfast\", \"sweet\", \"week\", \"help\", \"modern\", \"snack\", \"photo\", \"accurate\", \"early\", \"heart\", \"kid\", \"second\", \"walkable\", \"communicate\", \"top\", \"chicken\", \"fabulous\", \"due\", \"ideal\", \"art\", \"vacation\", \"map\", \"son\", \"home\", \"night\", \"day\", \"little\", \"city\", \"lovely\", \"thing\", \"first\", \"warm\", \"coffee\", \"much\", \"right\", \"fantastic\", \"responsive\", \"way\", \"morning\", \"fun\", \"amenity\", \"well\", \"short\", \"minute\", \"problem\", \"local\", \"work\", \"car\", \"person\", \"hotel\", \"information\", \"suggestion\", \"weekend\", \"good\", \"food\", \"bed\", \"bathroom\", \"guest\", \"small\", \"people\", \"kitchen\", \"bedroom\", \"shower\", \"bit\", \"unit\", \"use\", \"overall\", \"window\", \"key\", \"large\", \"big\", \"issue\", \"tiny\", \"sleep\", \"towel\", \"hour\", \"extra\", \"door\", \"noise\", \"water\", \"price\", \"peaceful\", \"basement\", \"detail\", \"tea\", \"front\"], \"Total\": [53343.0, 43329.0, 13981.0, 9823.0, 11303.0, 26596.0, 24713.0, 24430.0, 24271.0, 23989.0, 5782.0, 5417.0, 4756.0, 5793.0, 7891.0, 18802.0, 18650.0, 7766.0, 7706.0, 17148.0, 4208.0, 6884.0, 16476.0, 6811.0, 4053.0, 15400.0, 3836.0, 6227.0, 14571.0, 4304.0, 53343.7734375, 43329.46484375, 26596.306640625, 24713.904296875, 24430.212890625, 24271.4296875, 23989.09765625, 18802.5078125, 18650.478515625, 15400.1669921875, 14571.53125, 12870.2216796875, 12687.6337890625, 11753.8525390625, 11841.166015625, 11420.5751953125, 11326.03125, 10266.0166015625, 9762.27734375, 9538.751953125, 9581.8642578125, 8304.7685546875, 8245.3349609375, 7992.32666015625, 7649.13037109375, 7528.23388671875, 5950.6318359375, 5220.75830078125, 5178.20361328125, 5179.98193359375, 17148.263671875, 16476.162109375, 9904.5009765625, 5782.75537109375, 5417.341796875, 4756.5244140625, 4208.4248046875, 4053.5771484375, 3836.26953125, 3411.227783203125, 2588.4736328125, 1800.275634765625, 1790.979248046875, 1542.5318603515625, 1519.236328125, 1424.9986572265625, 1267.681396484375, 1261.4107666015625, 1096.0618896484375, 1108.70751953125, 1041.4112548828125, 1039.4271240234375, 996.6165771484375, 984.0899047851562, 947.7275390625, 1415.124755859375, 905.286376953125, 913.2538452148438, 881.03125, 873.6121215820312, 864.0077514648438, 840.5866088867188, 811.3003540039062, 11303.0009765625, 7891.50146484375, 7706.15625, 7766.4345703125, 6884.69677734375, 6811.33544921875, 6227.529296875, 4410.427734375, 4269.3330078125, 4227.1220703125, 4030.55078125, 3976.10400390625, 3865.426025390625, 3590.250732421875, 3424.591064453125, 3364.463623046875, 3200.733154296875, 3069.657958984375, 3043.409912109375, 2833.903564453125, 2698.857421875, 2740.56640625, 2668.959228515625, 2660.710205078125, 2605.878662109375, 2352.1396484375, 2319.40673828125, 2155.200927734375, 2172.060302734375, 2096.97998046875, 13981.86328125, 2775.639404296875, 9823.0869140625, 5793.482421875, 4304.22802734375, 4169.28125, 3428.361328125, 3125.74609375, 2928.633544921875, 2861.231201171875, 2724.05810546875, 2407.437255859375, 2385.133056640625, 2289.2275390625, 2177.16455078125, 2105.752197265625, 2067.015625, 1959.3968505859375, 1789.643798828125, 2206.635009765625, 1672.209228515625, 1587.6981201171875, 1565.11767578125, 1534.512939453125, 1446.465087890625, 1418.281005859375, 1370.410400390625, 1330.4337158203125, 1195.34619140625, 1160.2608642578125, 1159.5106201171875, 1172.7872314453125, 1160.436767578125], \"loglift\": [30.0, 29.0, 28.0, 27.0, 26.0, 25.0, 24.0, 23.0, 22.0, 21.0, 20.0, 19.0, 18.0, 17.0, 16.0, 15.0, 14.0, 13.0, 12.0, 11.0, 10.0, 9.0, 8.0, 7.0, 6.0, 5.0, 4.0, 3.0, 2.0, 1.0, 0.6122999787330627, 0.6122999787330627, 0.6122999787330627, 0.6122999787330627, 0.6122999787330627, 0.6122999787330627, 0.6122999787330627, 0.6122999787330627, 0.6122999787330627, 0.6122000217437744, 0.6122000217437744, 0.6122000217437744, 0.6122000217437744, 0.6122000217437744, 0.6122000217437744, 0.6122000217437744, 0.6122000217437744, 0.6122000217437744, 0.6122000217437744, 0.6122000217437744, 0.6122000217437744, 0.6122000217437744, 0.6122000217437744, 0.6122000217437744, 0.6122000217437744, 0.6122000217437744, 0.6122000217437744, 0.6121000051498413, 0.6121000051498413, 0.6121000051498413, 0.6119999885559082, 0.6121000051498413, 0.5692999958992004, 2.4270999431610107, 2.4270999431610107, 2.4270999431610107, 2.4270999431610107, 2.4270999431610107, 2.427000045776367, 2.427000045776367, 2.4268999099731445, 2.426800012588501, 2.426800012588501, 2.4267001152038574, 2.4267001152038574, 2.4267001152038574, 2.4265999794006348, 2.4265999794006348, 2.426500082015991, 2.426500082015991, 2.426500082015991, 2.426500082015991, 2.426500082015991, 2.4263999462127686, 2.4263999462127686, 2.4263999462127686, 2.4263999462127686, 2.4263999462127686, 2.426300048828125, 2.426300048828125, 2.426300048828125, 2.426300048828125, 2.426300048828125, 1.457800030708313, 1.4577000141143799, 1.4577000141143799, 1.4577000141143799, 1.4577000141143799, 1.4577000141143799, 1.4577000141143799, 1.4575999975204468, 1.4575999975204468, 1.4575999975204468, 1.4575999975204468, 1.4575999975204468, 1.4575999975204468, 1.4575999975204468, 1.4575999975204468, 1.4575999975204468, 1.4575999975204468, 1.4575999975204468, 1.4575999975204468, 1.4574999809265137, 1.4574999809265137, 1.4574999809265137, 1.4574999809265137, 1.4574999809265137, 1.4574999809265137, 1.4574999809265137, 1.4574999809265137, 1.4574999809265137, 1.4574999809265137, 1.4573999643325806, 1.4551000595092773, 1.4075000286102295, 1.9886000156402588, 1.9886000156402588, 1.9884999990463257, 1.9884999990463257, 1.9884999990463257, 1.9883999824523926, 1.9883999824523926, 1.9883999824523926, 1.9883999824523926, 1.9883999824523926, 1.9883999824523926, 1.9882999658584595, 1.9882999658584595, 1.9882999658584595, 1.9882999658584595, 1.9882999658584595, 1.9881999492645264, 1.9881999492645264, 1.9881999492645264, 1.9881999492645264, 1.9881999492645264, 1.9881999492645264, 1.9881000518798828, 1.9881000518798828, 1.9881000518798828, 1.9881000518798828, 1.9880000352859497, 1.9880000352859497, 1.9880000352859497, 1.9880000352859497, 1.9880000352859497], \"logprob\": [30.0, 29.0, 28.0, 27.0, 26.0, 25.0, 24.0, 23.0, 22.0, 21.0, 20.0, 19.0, 18.0, 17.0, 16.0, 15.0, 14.0, 13.0, 12.0, 11.0, 10.0, 9.0, 8.0, 7.0, 6.0, 5.0, 4.0, 3.0, 2.0, 1.0, -2.6594998836517334, -2.867500066757202, -3.3554999828338623, -3.4289000034332275, -3.440500020980835, -3.447000026702881, -3.458699941635132, -3.7023000717163086, -3.710400104522705, -3.901900053024292, -3.9572999477386475, -4.081399917602539, -4.095699787139893, -4.1722002029418945, -4.16480016708374, -4.200900077819824, -4.209199905395508, -4.307499885559082, -4.357800006866455, -4.38100004196167, -4.376500129699707, -4.519499778747559, -4.526700019836426, -4.5578999519348145, -4.601799964904785, -4.617700099945068, -4.85290002822876, -4.983799934387207, -4.992000102996826, -4.991600036621094, -3.794600009918213, -3.8345000743865967, -4.386300086975098, -3.0666000843048096, -3.1319000720977783, -3.26200008392334, -3.384399890899658, -3.4219000339508057, -3.4769999980926514, -3.5945000648498535, -3.8705999851226807, -4.233799934387207, -4.238999843597412, -4.388400077819824, -4.403600215911865, -4.467700004577637, -4.584799766540527, -4.589700222015381, -4.730299949645996, -4.718800067901611, -4.781499862670898, -4.783400058746338, -4.825500011444092, -4.838200092315674, -4.875899791717529, -4.474999904632568, -4.9217000007629395, -4.912899971008301, -4.94890022277832, -4.957300186157227, -4.968400001525879, -4.9959001541137695, -5.031400203704834, -3.3657000064849854, -3.725100040435791, -3.748800039291382, -3.740999937057495, -3.861599922180176, -3.872299909591675, -3.961899995803833, -4.307000160217285, -4.3394999504089355, -4.349400043487549, -4.396999835968018, -4.410600185394287, -4.438899993896484, -4.512700080871582, -4.559999942779541, -4.577700138092041, -4.627600193023682, -4.669400215148926, -4.677999973297119, -4.7494001388549805, -4.7982001304626465, -4.782899856567383, -4.8094000816345215, -4.8125, -4.8333001136779785, -4.935800075531006, -4.94980001449585, -5.023200035095215, -5.015399932861328, -5.050600051879883, -3.1556999683380127, -4.820199966430664, -2.9751999378204346, -3.5032999515533447, -3.80049991607666, -3.8322999477386475, -4.0279998779296875, -4.120500087738037, -4.1855998039245605, -4.208899974822998, -4.257999897003174, -4.3815999031066895, -4.390999794006348, -4.432000160217285, -4.4822001457214355, -4.515600204467773, -4.534200191497803, -4.587600231170654, -4.678299903869629, -4.468900203704834, -4.746200084686279, -4.798099994659424, -4.812399864196777, -4.832200050354004, -4.891300201416016, -4.910999774932861, -4.945400238037109, -4.974999904632568, -5.082099914550781, -5.1118998527526855, -5.112599849700928, -5.101200103759766, -5.111800193786621]}, \"token.table\": {\"Topic\": [2, 2, 2, 3, 1, 1, 2, 2, 4, 4, 1, 4, 4, 4, 4, 2, 3, 2, 3, 1, 1, 3, 1, 2, 1, 1, 3, 4, 4, 1, 2, 2, 1, 1, 4, 2, 2, 3, 3, 1, 3, 1, 4, 3, 1, 3, 1, 4, 2, 2, 1, 3, 1, 3, 4, 1, 2, 3, 4, 4, 2, 4, 4, 3, 3, 1, 1, 3, 1, 2, 3, 2, 3, 3, 1, 1, 3, 4, 4, 4, 4, 1, 3, 2, 1, 4, 3, 1, 3, 1, 3, 1, 3, 1, 2, 3, 4, 4, 4, 2, 2, 1, 2, 1, 3, 2, 3, 2, 4, 1, 3, 1, 3, 4, 2, 4, 1, 4, 4, 2, 2, 2, 3, 4, 3, 2, 3, 3, 4, 1, 3], \"Freq\": [0.9998897314071655, 0.999674379825592, 0.9998693466186523, 0.9997856616973877, 0.9999884963035583, 0.9999274611473083, 0.9996400475502014, 0.9992993474006653, 0.9989132881164551, 0.9999167323112488, 0.9998522400856018, 0.9998893737792969, 0.9997836947441101, 0.9997974634170532, 0.9996115565299988, 0.9998170137405396, 0.9996628165245056, 0.9992051720619202, 0.9998987913131714, 0.9999542236328125, 0.9999593496322632, 0.9997345805168152, 0.9999503493309021, 0.9988924860954285, 0.999893844127655, 0.9998547434806824, 0.9998499751091003, 0.9995596408843994, 0.9996784925460815, 0.9999242424964905, 0.9986270666122437, 0.9990311861038208, 0.9999635219573975, 0.9999496340751648, 0.9996657371520996, 0.9985790252685547, 0.999669075012207, 0.9998897910118103, 0.9999030232429504, 0.04899771884083748, 0.9507719278335571, 0.9999074339866638, 0.9996235966682434, 0.9997709393501282, 0.002646285342052579, 0.9972919821739197, 0.9999855160713196, 0.9997146725654602, 0.9993618726730347, 0.9996551871299744, 0.999869167804718, 0.9999114274978638, 0.9999634027481079, 0.9998246431350708, 0.999285876750946, 0.9999009966850281, 0.9988294839859009, 0.9994427561759949, 0.9996402859687805, 0.9996427893638611, 0.999605119228363, 0.9997612833976746, 0.9995086789131165, 0.9999440312385559, 0.9996405839920044, 0.9999822974205017, 0.9999591112136841, 0.9999507665634155, 0.9998104572296143, 0.9993021488189697, 0.9996823072433472, 0.9991862177848816, 0.9998621940612793, 0.99986332654953, 0.9999743700027466, 0.9999729990959167, 0.9999364614486694, 0.9990968108177185, 0.9994637966156006, 0.9997103810310364, 0.9998946189880371, 0.9999050498008728, 0.9995154738426208, 0.9994624853134155, 0.9999892711639404, 0.9996740221977234, 0.9997933506965637, 0.9999098181724548, 0.9996516108512878, 0.9999211430549622, 0.9997223615646362, 0.9997513890266418, 0.00023325976508203894, 0.9999500513076782, 0.9995890855789185, 0.9996811747550964, 0.9995697140693665, 0.999276876449585, 0.9996926784515381, 0.999299168586731, 0.9996297955513, 0.999901533126831, 0.9998576045036316, 0.9579483270645142, 0.04200110584497452, 0.9998990297317505, 0.9995118379592896, 0.9992914199829102, 0.9993287324905396, 0.9998360872268677, 0.9999150037765503, 0.9998080730438232, 0.00012138749298173934, 0.9997122287750244, 0.9992323517799377, 0.9995602965354919, 0.999767541885376, 0.9998183846473694, 0.9995249509811401, 0.9988336563110352, 0.9999368786811829, 0.9993813037872314, 0.999921977519989, 0.9997005462646484, 0.9998273849487305, 0.9994532465934753, 0.9995326995849609, 0.9998652935028076, 0.9994651079177856, 0.9999089241027832, 0.9997330904006958], \"Term\": [\"able\", \"accurate\", \"amazing\", \"amenity\", \"apartment\", \"area\", \"arrival\", \"art\", \"basement\", \"bathroom\", \"beautiful\", \"bed\", \"bedroom\", \"big\", \"bit\", \"breakfast\", \"car\", \"chicken\", \"city\", \"clean\", \"close\", \"coffee\", \"comfortable\", \"communicate\", \"convenient\", \"cozy\", \"day\", \"detail\", \"door\", \"downtown\", \"due\", \"early\", \"easy\", \"experience\", \"extra\", \"fabulous\", \"family\", \"fantastic\", \"first\", \"food\", \"food\", \"friendly\", \"front\", \"fun\", \"good\", \"good\", \"great\", \"guest\", \"heart\", \"help\", \"helpful\", \"home\", \"host\", \"hotel\", \"hour\", \"house\", \"ideal\", \"information\", \"issue\", \"key\", \"kid\", \"kitchen\", \"large\", \"little\", \"local\", \"location\", \"lot\", \"lovely\", \"many\", \"map\", \"minute\", \"modern\", \"morning\", \"much\", \"neighborhood\", \"nice\", \"night\", \"noise\", \"overall\", \"peaceful\", \"people\", \"perfect\", \"person\", \"photo\", \"place\", \"price\", \"problem\", \"quiet\", \"responsive\", \"restaurant\", \"right\", \"room\", \"room\", \"seattle\", \"second\", \"short\", \"shower\", \"sleep\", \"small\", \"snack\", \"son\", \"space\", \"spot\", \"stay\", \"stay\", \"studio\", \"suggestion\", \"sweet\", \"tea\", \"thank\", \"thing\", \"time\", \"time\", \"tiny\", \"top\", \"towel\", \"trip\", \"unit\", \"use\", \"vacation\", \"view\", \"walkable\", \"warm\", \"water\", \"way\", \"week\", \"weekend\", \"well\", \"window\", \"wonderful\", \"work\"]}, \"R\": 30, \"lambda.step\": 0.01, \"plot.opts\": {\"xlab\": \"PC1\", \"ylab\": \"PC2\"}, \"topic.order\": [1, 2, 3, 4]};\n",
       "\n",
       "function LDAvis_load_lib(url, callback){\n",
       "  var s = document.createElement('script');\n",
       "  s.src = url;\n",
       "  s.async = true;\n",
       "  s.onreadystatechange = s.onload = callback;\n",
       "  s.onerror = function(){console.warn(\"failed to load library \" + url);};\n",
       "  document.getElementsByTagName(\"head\")[0].appendChild(s);\n",
       "}\n",
       "\n",
       "if(typeof(LDAvis) !== \"undefined\"){\n",
       "   // already loaded: just create the visualization\n",
       "   !function(LDAvis){\n",
       "       new LDAvis(\"#\" + \"ldavis_el560751145273019683844763751\", ldavis_el560751145273019683844763751_data);\n",
       "   }(LDAvis);\n",
       "}else if(typeof define === \"function\" && define.amd){\n",
       "   // require.js is available: use it to load d3/LDAvis\n",
       "   require.config({paths: {d3: \"https://cdnjs.cloudflare.com/ajax/libs/d3/3.5.5/d3.min\"}});\n",
       "   require([\"d3\"], function(d3){\n",
       "      window.d3 = d3;\n",
       "      LDAvis_load_lib(\"https://cdn.rawgit.com/bmabey/pyLDAvis/files/ldavis.v1.0.0.js\", function(){\n",
       "        new LDAvis(\"#\" + \"ldavis_el560751145273019683844763751\", ldavis_el560751145273019683844763751_data);\n",
       "      });\n",
       "    });\n",
       "}else{\n",
       "    // require.js not available: dynamically load d3 & LDAvis\n",
       "    LDAvis_load_lib(\"https://cdnjs.cloudflare.com/ajax/libs/d3/3.5.5/d3.min.js\", function(){\n",
       "         LDAvis_load_lib(\"https://cdn.rawgit.com/bmabey/pyLDAvis/files/ldavis.v1.0.0.js\", function(){\n",
       "                 new LDAvis(\"#\" + \"ldavis_el560751145273019683844763751\", ldavis_el560751145273019683844763751_data);\n",
       "            })\n",
       "         });\n",
       "}\n",
       "</script>"
      ],
      "text/plain": [
       "PreparedData(topic_coordinates=              x         y  topics  cluster       Freq\n",
       "topic                                                \n",
       "0      0.414280  0.024142       1        1  54.210377\n",
       "1     -0.143049  0.116579       2        1   8.827936\n",
       "2     -0.115380 -0.376971       3        1  23.274254\n",
       "3     -0.155852  0.236249       4        1  13.687431, topic_info=     Category          Freq      Term         Total  loglift  logprob\n",
       "9     Default  53343.000000     great  53343.000000   30.000  30.0000\n",
       "4     Default  43329.000000     place  43329.000000   29.000  29.0000\n",
       "36    Default  13981.000000      good  13981.000000   28.000  28.0000\n",
       "163   Default   9823.000000       bed   9823.000000   27.000  27.0000\n",
       "147   Default  11303.000000      home  11303.000000   26.000  26.0000\n",
       "...       ...           ...       ...           ...      ...      ...\n",
       "178    Topic4   1194.529541  peaceful   1195.346191    1.988  -5.0821\n",
       "1014   Topic4   1159.464478  basement   1160.260864    1.988  -5.1119\n",
       "372    Topic4   1158.703125    detail   1159.510620    1.988  -5.1126\n",
       "381    Topic4   1171.963379       tea   1172.787231    1.988  -5.1012\n",
       "1146   Topic4   1159.620728     front   1160.436768    1.988  -5.1118\n",
       "\n",
       "[156 rows x 6 columns], token_table=      Topic      Freq       Term\n",
       "term                            \n",
       "214       2  0.999890       able\n",
       "761       2  0.999674   accurate\n",
       "105       2  0.999869    amazing\n",
       "560       3  0.999786    amenity\n",
       "15        1  0.999988  apartment\n",
       "...     ...       ...        ...\n",
       "65        3  0.999533    weekend\n",
       "347       3  0.999865       well\n",
       "400       4  0.999465     window\n",
       "95        1  0.999909  wonderful\n",
       "187       3  0.999733       work\n",
       "\n",
       "[131 rows x 3 columns], R=30, lambda_step=0.01, plot_opts={'xlab': 'PC1', 'ylab': 'PC2'}, topic_order=[1, 2, 3, 4])"
      ]
     },
     "execution_count": 112,
     "metadata": {},
     "output_type": "execute_result"
    }
   ],
   "source": [
    "# Visualize the topics\n",
    "pyLDAvis.enable_notebook()\n",
    "vis = pyLDAvis.gensim.prepare(lda_model, corpus, id2word,sort_topics=False)\n",
    "vis"
   ]
  }
 ],
 "metadata": {
  "kernelspec": {
   "display_name": "Python 3",
   "language": "python",
   "name": "python3"
  },
  "language_info": {
   "codemirror_mode": {
    "name": "ipython",
    "version": 3
   },
   "file_extension": ".py",
   "mimetype": "text/x-python",
   "name": "python",
   "nbconvert_exporter": "python",
   "pygments_lexer": "ipython3",
   "version": "3.7.4"
  }
 },
 "nbformat": 4,
 "nbformat_minor": 4
}
